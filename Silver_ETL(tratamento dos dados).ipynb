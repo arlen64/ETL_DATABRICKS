{
 "cells": [
  {
   "cell_type": "markdown",
   "metadata": {
    "application/vnd.databricks.v1+cell": {
     "cellMetadata": {
      "byteLimit": 2048000,
      "rowLimit": 10000
     },
     "inputWidgets": {},
     "nuid": "c8902dd9-af96-4ce3-9bba-cc1a2fa118c0",
     "showTitle": false,
     "title": ""
    }
   },
   "source": [
    "IMPORTANDO E CRIANDO AS SESSÕES DO SPARK"
   ]
  },
  {
   "cell_type": "code",
   "execution_count": 0,
   "metadata": {
    "application/vnd.databricks.v1+cell": {
     "cellMetadata": {
      "byteLimit": 2048000,
      "rowLimit": 10000
     },
     "inputWidgets": {},
     "nuid": "3dd2e39a-cb89-41f4-afd5-50aae402ca30",
     "showTitle": false,
     "title": ""
    }
   },
   "outputs": [],
   "source": [
    "from pyspark.sql import SparkSession\n",
    "spark = SparkSession.builder.appName('tratando-dados-com-spark-databricks_silver').getOrCreate()\n",
    "import pyspark.sql.functions as F\n",
    "#importei caso necessitasse inferir o schema\n",
    "from pyspark.sql.types import StructType, StructField, StringType, IntegerType\n",
    "from pyspark.sql.functions import * \n",
    "\n",
    "path_silver = '/FileStore/tables/silver/dummy_data_silver.csv'\n"
   ]
  },
  {
   "cell_type": "markdown",
   "metadata": {
    "application/vnd.databricks.v1+cell": {
     "cellMetadata": {
      "byteLimit": 2048000,
      "rowLimit": 10000
     },
     "inputWidgets": {},
     "nuid": "050d6223-5ae0-412a-8da7-c0f6a65680b8",
     "showTitle": false,
     "title": ""
    }
   },
   "source": [
    "TRADUZINDO OS NOMES DAS COLUNAS"
   ]
  },
  {
   "cell_type": "code",
   "execution_count": 0,
   "metadata": {
    "application/vnd.databricks.v1+cell": {
     "cellMetadata": {
      "byteLimit": 2048000,
      "rowLimit": 10000
     },
     "inputWidgets": {},
     "nuid": "9172ec1c-7380-450f-926d-4a7cd8388842",
     "showTitle": false,
     "title": ""
    }
   },
   "outputs": [],
   "source": [
    "header = [\n",
    "              \"idade\",\n",
    "              \"genero\",\n",
    "              \"tempo_gasto\",\n",
    "              \"plataforma\",\n",
    "              \"interesses\",\n",
    "              \"localizacao\",\n",
    "              'dados_demograficos',\n",
    "              'profissao',\n",
    "              'renda',\n",
    "              'divida',\n",
    "              'possui_casa',\n",
    "              'Possui_carro',      \n",
    "]"
   ]
  },
  {
   "cell_type": "markdown",
   "metadata": {
    "application/vnd.databricks.v1+cell": {
     "cellMetadata": {
      "byteLimit": 2048000,
      "rowLimit": 10000
     },
     "inputWidgets": {},
     "nuid": "b4d755b4-9e74-4b8f-9e9f-1639171516e7",
     "showTitle": false,
     "title": ""
    }
   },
   "source": [
    "#### CARREGANDO OS DADOS COM AS NOVAS COLUNAS."
   ]
  },
  {
   "cell_type": "code",
   "execution_count": 0,
   "metadata": {
    "application/vnd.databricks.v1+cell": {
     "cellMetadata": {
      "byteLimit": 2048000,
      "rowLimit": 10000
     },
     "inputWidgets": {},
     "nuid": "c04fd880-c307-49bc-bbea-f05c168095da",
     "showTitle": false,
     "title": ""
    }
   },
   "outputs": [],
   "source": [
    "df = (spark\n",
    "            .read\n",
    "            .format('csv')\n",
    "            .option('header','true')\n",
    "            .option('inferSchema','true')\n",
    "            .option('index','false')             \n",
    "            .option('delimiter',',')\n",
    "            .load(path_silver)).toDF(*header)\n"
   ]
  },
  {
   "cell_type": "markdown",
   "metadata": {
    "application/vnd.databricks.v1+cell": {
     "cellMetadata": {
      "byteLimit": 2048000,
      "rowLimit": 10000
     },
     "inputWidgets": {},
     "nuid": "02fe7b0d-4ae6-4af1-b341-c6f8fcd83b34",
     "showTitle": false,
     "title": ""
    }
   },
   "source": []
  },
  {
   "cell_type": "code",
   "execution_count": 0,
   "metadata": {
    "application/vnd.databricks.v1+cell": {
     "cellMetadata": {
      "byteLimit": 2048000,
      "rowLimit": 10000
     },
     "inputWidgets": {},
     "nuid": "194672bf-344c-461d-8b32-2ee13eb0b7c1",
     "showTitle": false,
     "title": ""
    }
   },
   "outputs": [
    {
     "output_type": "stream",
     "name": "stdout",
     "output_type": "stream",
     "text": [
      "root\n |-- idade: integer (nullable = true)\n |-- genero: string (nullable = true)\n |-- tempo_gasto: integer (nullable = true)\n |-- plataforma: string (nullable = true)\n |-- interesses: string (nullable = true)\n |-- localizacao: string (nullable = true)\n |-- dados_demograficos: string (nullable = true)\n |-- profissao: string (nullable = true)\n |-- renda: integer (nullable = true)\n |-- divida: boolean (nullable = true)\n |-- possui_casa: boolean (nullable = true)\n |-- Possui_carro: boolean (nullable = true)\n\n"
     ]
    }
   ],
   "source": [
    "# Verificando a estrutura dos dados\n",
    "df.printSchema()"
   ]
  },
  {
   "cell_type": "code",
   "execution_count": 0,
   "metadata": {
    "application/vnd.databricks.v1+cell": {
     "cellMetadata": {
      "byteLimit": 2048000,
      "rowLimit": 10000
     },
     "inputWidgets": {},
     "nuid": "88b14444-76b8-4fce-9811-d48c0c727b5f",
     "showTitle": false,
     "title": ""
    }
   },
   "outputs": [
    {
     "output_type": "stream",
     "name": "stdout",
     "output_type": "stream",
     "text": [
      "+-----+------+-----------+----------+----------+-----------+------------------+---------+-----+------+-----------+------------+\n|idade|genero|tempo_gasto|plataforma|interesses|localizacao|dados_demograficos|profissao|renda|divida|possui_casa|Possui_carro|\n+-----+------+-----------+----------+----------+-----------+------------------+---------+-----+------+-----------+------------+\n+-----+------+-----------+----------+----------+-----------+------------------+---------+-----+------+-----------+------------+\n\n"
     ]
    }
   ],
   "source": [
    "#Verificando se existe valores nulos na coluna 'idade'\n",
    "df_nulos = df.filter(\"idade is Null\").show()\n"
   ]
  },
  {
   "cell_type": "code",
   "execution_count": 0,
   "metadata": {
    "application/vnd.databricks.v1+cell": {
     "cellMetadata": {
      "byteLimit": 2048000,
      "rowLimit": 10000
     },
     "inputWidgets": {},
     "nuid": "be359da9-017b-45ef-956f-5f9425cc34d8",
     "showTitle": false,
     "title": ""
    }
   },
   "outputs": [
    {
     "output_type": "stream",
     "name": "stdout",
     "output_type": "stream",
     "text": [
      "Distinct count: 999\n+-----+----------+-----------+----------+----------+--------------+------------------+-----------------+-----+------+-----------+------------+\n|idade|    genero|tempo_gasto|plataforma|interesses|   localizacao|dados_demograficos|        profissao|renda|divida|possui_casa|Possui_carro|\n+-----+----------+-----------+----------+----------+--------------+------------------+-----------------+-----+------+-----------+------------+\n|   46|    female|          2|  Facebook|    Travel|United Kingdom|             Urban|          Student|10564|  true|       true|        true|\n|   56|      male|          8|   YouTube|    Sports| United States|             Urban|          Student|16881|  true|       true|        true|\n|   57|    female|          6| Instagram| Lifestlye|United Kingdom|             Urban|Software Engineer|11928| false|       true|       false|\n|   41|non-binary|          9|   YouTube|    Travel| United States|             Rural|          Student|17743|  true|       true|       false|\n|   40|non-binary|          7|   YouTube| Lifestlye|     Australia|         Sub_Urban| Marketer Manager|16030| false|      false|        true|\n|   38|      male|          3|  Facebook|    Travel| United States|             Urban| Marketer Manager|19179|  true|       true|        true|\n|   36|      male|          4| Instagram|    Sports|     Australia|             Urban| Marketer Manager|13636|  true|      false|        true|\n|   55|non-binary|          7|   YouTube|    Travel|     Australia|             Urban|          Student|16207|  true|      false|        true|\n|   47|      male|          2| Instagram|    Sports|United Kingdom|             Rural|Software Engineer|17170| false|      false|        true|\n|   41|non-binary|          5|  Facebook|    Sports| United States|         Sub_Urban| Marketer Manager|10350| false|      false|       false|\n|   53|non-binary|          5|  Facebook|    Sports|     Australia|             Rural|          Student|17314| false|       true|        true|\n|   20|      male|          6|  Facebook|    Sports|United Kingdom|         Sub_Urban|Software Engineer|18540|  true|       true|       false|\n|   41|    female|          9|  Facebook|    Sports| United States|         Sub_Urban|          Student|12226| false|      false|       false|\n|   32|      male|          8| Instagram|    Sports|     Australia|         Sub_Urban| Marketer Manager|13258| false|      false|       false|\n|   28|    female|          7|   YouTube| Lifestlye|United Kingdom|             Urban|          Student|16297|  true|       true|       false|\n|   25|      male|          1| Instagram| Lifestlye|     Australia|             Urban|Software Engineer|14566| false|       true|        true|\n|   61|    female|          4|  Facebook|    Sports| United States|             Urban| Marketer Manager|17206| false|      false|       false|\n|   19|    female|          7| Instagram|    Sports|United Kingdom|             Rural| Marketer Manager|11017| false|       true|        true|\n|   39|      male|          8| Instagram|    Travel| United States|         Sub_Urban|          Student|14732|  true|       true|       false|\n|   28|non-binary|          2| Instagram|    Sports|     Australia|         Sub_Urban| Marketer Manager|10223|  true|      false|        true|\n+-----+----------+-----------+----------+----------+--------------+------------------+-----------------+-----+------+-----------+------------+\nonly showing top 20 rows\n\n"
     ]
    }
   ],
   "source": [
    "# Verificando valores duplicados\n",
    "\n",
    "distinctDF = df.distinct()\n",
    "print(\"Distinct count: \"+str(distinctDF.count()))\n",
    "distinctDF.show()\n",
    "# (Não existe valores duplicados!)"
   ]
  },
  {
   "cell_type": "markdown",
   "metadata": {
    "application/vnd.databricks.v1+cell": {
     "cellMetadata": {
      "byteLimit": 2048000,
      "rowLimit": 10000
     },
     "inputWidgets": {},
     "nuid": "a6d7ec21-3a34-42df-93d5-e9be077e3ff7",
     "showTitle": false,
     "title": ""
    }
   },
   "source": [
    "CRIANDO UMA FUNÇÃO PARA OBTER A DATA EM TEMPO REAL"
   ]
  },
  {
   "cell_type": "code",
   "execution_count": 0,
   "metadata": {
    "application/vnd.databricks.v1+cell": {
     "cellMetadata": {
      "byteLimit": 2048000,
      "rowLimit": 10000
     },
     "inputWidgets": {},
     "nuid": "cde77a9e-ea54-442e-8fca-0495ef6c3fb0",
     "showTitle": false,
     "title": ""
    }
   },
   "outputs": [
    {
     "output_type": "stream",
     "name": "stdout",
     "output_type": "stream",
     "text": [
      "+-----+----------+-----------+----------+----------+--------------+------------------+-----------------+-----+------+-----------+------------+----------+\n|idade|    genero|tempo_gasto|plataforma|interesses|   localizacao|dados_demograficos|        profissao|renda|divida|possui_casa|Possui_carro|      date|\n+-----+----------+-----------+----------+----------+--------------+------------------+-----------------+-----+------+-----------+------------+----------+\n|   46|    female|          2|  Facebook|    Travel|United Kingdom|             Urban|          Student|10564|  true|       true|        true|2024-04-16|\n|   32|      male|          8| Instagram|    Sports|     Australia|         Sub_Urban| Marketer Manager|13258| false|      false|       false|2024-04-16|\n|   60|non-binary|          5| Instagram|    Travel|United Kingdom|             Urban|          Student|12500| false|       true|       false|2024-04-16|\n|   25|      male|          1| Instagram| Lifestlye|     Australia|             Urban|Software Engineer|14566| false|       true|        true|2024-04-16|\n|   38|      male|          3|  Facebook|    Travel| United States|             Urban| Marketer Manager|19179|  true|       true|        true|2024-04-16|\n|   56|      male|          8|   YouTube|    Sports| United States|             Urban|          Student|16881|  true|       true|        true|2024-04-16|\n|   36|      male|          4| Instagram|    Sports|     Australia|             Urban| Marketer Manager|13636|  true|      false|        true|2024-04-16|\n|   40|non-binary|          7|   YouTube| Lifestlye|     Australia|         Sub_Urban| Marketer Manager|16030| false|      false|        true|2024-04-16|\n|   28|non-binary|          2| Instagram|    Sports|     Australia|         Sub_Urban| Marketer Manager|10223|  true|      false|        true|2024-04-16|\n|   28|    female|          7|   YouTube| Lifestlye|United Kingdom|             Urban|          Student|16297|  true|       true|       false|2024-04-16|\n|   41|non-binary|          5|  Facebook|    Sports| United States|         Sub_Urban| Marketer Manager|10350| false|      false|       false|2024-04-16|\n|   53|non-binary|          5|  Facebook|    Sports|     Australia|             Rural|          Student|17314| false|       true|        true|2024-04-16|\n|   57|    female|          6| Instagram| Lifestlye|United Kingdom|             Urban|Software Engineer|11928| false|       true|       false|2024-04-16|\n|   41|non-binary|          9|   YouTube|    Travel| United States|             Rural|          Student|17743|  true|       true|       false|2024-04-16|\n|   20|      male|          6|  Facebook|    Sports|United Kingdom|         Sub_Urban|Software Engineer|18540|  true|       true|       false|2024-04-16|\n|   39|      male|          8| Instagram|    Travel| United States|         Sub_Urban|          Student|14732|  true|       true|       false|2024-04-16|\n|   19|    female|          7| Instagram|    Sports|United Kingdom|             Rural| Marketer Manager|11017| false|       true|        true|2024-04-16|\n|   41|    female|          9|  Facebook|    Sports| United States|         Sub_Urban|          Student|12226| false|      false|       false|2024-04-16|\n|   61|    female|          4|  Facebook|    Sports| United States|             Urban| Marketer Manager|17206| false|      false|       false|2024-04-16|\n|   47|      male|          2| Instagram|    Sports|United Kingdom|             Rural|Software Engineer|17170| false|      false|        true|2024-04-16|\n+-----+----------+-----------+----------+----------+--------------+------------------+-----------------+-----+------+-----------+------------+----------+\nonly showing top 20 rows\n\n"
     ]
    }
   ],
   "source": [
    "# Criando a função data atual para adcionarmos na coluna de carga.\n",
    "from datetime import datetime\n",
    "\n",
    "def get_current_date():\n",
    "    # Obter a data atual \n",
    "    current_date = datetime.now().date()\n",
    "    return current_date\n",
    "# Testando a função\n",
    "time = get_current_date()\n",
    "# Adcionando uma coluna de carga no dataframe.\n",
    "df = df.withColumn(\"date\", lit(time))\n",
    "df.show()\n"
   ]
  },
  {
   "cell_type": "code",
   "execution_count": 0,
   "metadata": {
    "application/vnd.databricks.v1+cell": {
     "cellMetadata": {
      "byteLimit": 2048000,
      "rowLimit": 10000
     },
     "inputWidgets": {},
     "nuid": "280043f1-b13b-4bd8-bcd2-1c9513756e8d",
     "showTitle": false,
     "title": ""
    }
   },
   "outputs": [],
   "source": [
    "# caminho do diretório da camada GOLD\n",
    "path_gold = '/FileStore/tables/gold/dummy_data_gold.csv'"
   ]
  },
  {
   "cell_type": "code",
   "execution_count": 0,
   "metadata": {
    "application/vnd.databricks.v1+cell": {
     "cellMetadata": {
      "byteLimit": 2048000,
      "rowLimit": 10000
     },
     "inputWidgets": {},
     "nuid": "ae1aca69-c3f4-4af3-b8e0-ee02b3ac2fb9",
     "showTitle": false,
     "title": ""
    }
   },
   "outputs": [],
   "source": [
    "# Salvando o DataFrame no caminho especificado com o cabeçalho incluso\n",
    "df.write.csv(path_gold, mode=\"overwrite\", header=True)"
   ]
  },
  {
   "cell_type": "markdown",
   "metadata": {
    "application/vnd.databricks.v1+cell": {
     "cellMetadata": {
      "byteLimit": 2048000,
      "rowLimit": 10000
     },
     "inputWidgets": {},
     "nuid": "552d75a5-dcae-401f-b87b-b7d1e642dd0d",
     "showTitle": false,
     "title": ""
    }
   },
   "source": [
    "###Verificando se os dados foram transferidos com sucesso."
   ]
  },
  {
   "cell_type": "code",
   "execution_count": 0,
   "metadata": {
    "application/vnd.databricks.v1+cell": {
     "cellMetadata": {
      "byteLimit": 2048000,
      "rowLimit": 10000
     },
     "inputWidgets": {},
     "nuid": "bbf9673a-7ce1-4b5c-b383-5aac788cad83",
     "showTitle": false,
     "title": ""
    }
   },
   "outputs": [
    {
     "output_type": "stream",
     "name": "stdout",
     "output_type": "stream",
     "text": [
      "Out[92]: True"
     ]
    }
   ],
   "source": [
    "dbutils.fs.rm(\"/FileStore/tables/gold/dummy_test_gold.csv/\", True)\n"
   ]
  },
  {
   "cell_type": "code",
   "execution_count": 0,
   "metadata": {
    "application/vnd.databricks.v1+cell": {
     "cellMetadata": {
      "byteLimit": 2048000,
      "rowLimit": 10000
     },
     "inputWidgets": {},
     "nuid": "d00c639d-1e77-4d90-a6a8-ab0d62ff9ce3",
     "showTitle": false,
     "title": ""
    }
   },
   "outputs": [
    {
     "output_type": "display_data",
     "data": {
      "text/html": [
       "<style scoped>\n",
       "  .table-result-container {\n",
       "    max-height: 300px;\n",
       "    overflow: auto;\n",
       "  }\n",
       "  table, th, td {\n",
       "    border: 1px solid black;\n",
       "    border-collapse: collapse;\n",
       "  }\n",
       "  th, td {\n",
       "    padding: 5px;\n",
       "  }\n",
       "  th {\n",
       "    text-align: left;\n",
       "  }\n",
       "</style><div class='table-result-container'><table class='table-result'><thead style='background-color: white'><tr><th>path</th><th>name</th><th>size</th><th>modificationTime</th></tr></thead><tbody><tr><td>dbfs:/FileStore/tables/gold/dummy_data_gold.csv/</td><td>dummy_data_gold.csv/</td><td>0</td><td>0</td></tr></tbody></table></div>"
      ]
     },
     "metadata": {
      "application/vnd.databricks.v1+output": {
       "addedWidgets": {},
       "aggData": [],
       "aggError": "",
       "aggOverflow": false,
       "aggSchema": [],
       "aggSeriesLimitReached": false,
       "aggType": "",
       "arguments": {},
       "columnCustomDisplayInfos": {},
       "data": [
        [
         "dbfs:/FileStore/tables/gold/dummy_data_gold.csv/",
         "dummy_data_gold.csv/",
         0,
         0
        ]
       ],
       "datasetInfos": [],
       "dbfsResultPath": null,
       "isJsonSchema": true,
       "metadata": {
        "isDbfsCommandResult": false
       },
       "overflow": false,
       "plotOptions": {
        "customPlotOptions": {},
        "displayType": "table",
        "pivotAggregation": null,
        "pivotColumns": null,
        "xColumns": null,
        "yColumns": null
       },
       "removedWidgets": [],
       "schema": [
        {
         "metadata": "{}",
         "name": "path",
         "type": "\"string\""
        },
        {
         "metadata": "{}",
         "name": "name",
         "type": "\"string\""
        },
        {
         "metadata": "{}",
         "name": "size",
         "type": "\"long\""
        },
        {
         "metadata": "{}",
         "name": "modificationTime",
         "type": "\"long\""
        }
       ],
       "type": "table"
      }
     },
     "output_type": "display_data"
    }
   ],
   "source": [
    "%fs ls /FileStore/tables/gold/"
   ]
  }
 ],
 "metadata": {
  "application/vnd.databricks.v1+notebook": {
   "dashboards": [],
   "language": "python",
   "notebookMetadata": {
    "mostRecentlyExecutedCommandWithImplicitDF": {
     "commandId": 145473821952588,
     "dataframes": [
      "_sqldf"
     ]
    },
    "pythonIndentUnit": 4
   },
   "notebookName": "Silver_ETL",
   "widgets": {}
  }
 },
 "nbformat": 4,
 "nbformat_minor": 0
}
