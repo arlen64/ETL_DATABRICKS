{
 "cells": [
  {
   "cell_type": "code",
   "execution_count": 0,
   "metadata": {
    "application/vnd.databricks.v1+cell": {
     "cellMetadata": {
      "byteLimit": 2048000,
      "rowLimit": 10000
     },
     "inputWidgets": {},
     "nuid": "22977518-f6e4-421d-b4f1-b0a94b9353eb",
     "showTitle": false,
     "title": ""
    }
   },
   "outputs": [],
   "source": [
    "from pyspark.sql import SparkSession\n",
    "spark = SparkSession.builder.appName('tratando-dados-com-spark-databricks_Gold').getOrCreate()\n",
    "import pyspark.sql.functions as F\n",
    "from pyspark.sql.types import StructType, StructField, StringType, IntegerType\n",
    "from pyspark.sql.functions import * \n",
    "path_gold = '/FileStore/tables/gold/dummy_data_gold.csv'\n"
   ]
  },
  {
   "cell_type": "code",
   "execution_count": 0,
   "metadata": {
    "application/vnd.databricks.v1+cell": {
     "cellMetadata": {
      "byteLimit": 2048000,
      "rowLimit": 10000
     },
     "inputWidgets": {},
     "nuid": "b04584b9-65e1-4870-b8ff-86af25478d4b",
     "showTitle": false,
     "title": ""
    }
   },
   "outputs": [
    {
     "output_type": "stream",
     "name": "stdout",
     "output_type": "stream",
     "text": [
      "+-----+----------+-----------+----------+----------+--------------+------------------+-----------------+-----+------+-----------+------------+----------+\n|idade|    genero|tempo_gasto|plataforma|interesses|   localizacao|dados_demograficos|        profissao|renda|divida|possui_casa|Possui_carro|      date|\n+-----+----------+-----------+----------+----------+--------------+------------------+-----------------+-----+------+-----------+------------+----------+\n|   46|    female|          2|  Facebook|    Travel|United Kingdom|             Urban|          Student|10564|  true|       true|        true|2024-04-16|\n|   32|      male|          8| Instagram|    Sports|     Australia|         Sub_Urban| Marketer Manager|13258| false|      false|       false|2024-04-16|\n|   60|non-binary|          5| Instagram|    Travel|United Kingdom|             Urban|          Student|12500| false|       true|       false|2024-04-16|\n|   25|      male|          1| Instagram| Lifestlye|     Australia|             Urban|Software Engineer|14566| false|       true|        true|2024-04-16|\n|   38|      male|          3|  Facebook|    Travel| United States|             Urban| Marketer Manager|19179|  true|       true|        true|2024-04-16|\n|   56|      male|          8|   YouTube|    Sports| United States|             Urban|          Student|16881|  true|       true|        true|2024-04-16|\n|   36|      male|          4| Instagram|    Sports|     Australia|             Urban| Marketer Manager|13636|  true|      false|        true|2024-04-16|\n|   40|non-binary|          7|   YouTube| Lifestlye|     Australia|         Sub_Urban| Marketer Manager|16030| false|      false|        true|2024-04-16|\n|   28|non-binary|          2| Instagram|    Sports|     Australia|         Sub_Urban| Marketer Manager|10223|  true|      false|        true|2024-04-16|\n|   28|    female|          7|   YouTube| Lifestlye|United Kingdom|             Urban|          Student|16297|  true|       true|       false|2024-04-16|\n|   41|non-binary|          5|  Facebook|    Sports| United States|         Sub_Urban| Marketer Manager|10350| false|      false|       false|2024-04-16|\n|   53|non-binary|          5|  Facebook|    Sports|     Australia|             Rural|          Student|17314| false|       true|        true|2024-04-16|\n|   57|    female|          6| Instagram| Lifestlye|United Kingdom|             Urban|Software Engineer|11928| false|       true|       false|2024-04-16|\n|   41|non-binary|          9|   YouTube|    Travel| United States|             Rural|          Student|17743|  true|       true|       false|2024-04-16|\n|   20|      male|          6|  Facebook|    Sports|United Kingdom|         Sub_Urban|Software Engineer|18540|  true|       true|       false|2024-04-16|\n|   39|      male|          8| Instagram|    Travel| United States|         Sub_Urban|          Student|14732|  true|       true|       false|2024-04-16|\n|   19|    female|          7| Instagram|    Sports|United Kingdom|             Rural| Marketer Manager|11017| false|       true|        true|2024-04-16|\n|   41|    female|          9|  Facebook|    Sports| United States|         Sub_Urban|          Student|12226| false|      false|       false|2024-04-16|\n|   61|    female|          4|  Facebook|    Sports| United States|             Urban| Marketer Manager|17206| false|      false|       false|2024-04-16|\n|   47|      male|          2| Instagram|    Sports|United Kingdom|             Rural|Software Engineer|17170| false|      false|        true|2024-04-16|\n+-----+----------+-----------+----------+----------+--------------+------------------+-----------------+-----+------+-----------+------------+----------+\nonly showing top 20 rows\n\n"
     ]
    }
   ],
   "source": [
    "\n",
    "df_gold = (spark\n",
    "            .read\n",
    "            .format('csv')\n",
    "            .option('header','true')\n",
    "            .option('inferSchema','true')\n",
    "            .option('index','false')             \n",
    "            .option('delimiter',',')\n",
    "            .load(path_gold))\n",
    "df_gold.show()"
   ]
  },
  {
   "cell_type": "code",
   "execution_count": 0,
   "metadata": {
    "application/vnd.databricks.v1+cell": {
     "cellMetadata": {
      "byteLimit": 2048000,
      "rowLimit": 10000
     },
     "inputWidgets": {},
     "nuid": "66910593-e099-4aa5-bd01-73336d62576e",
     "showTitle": false,
     "title": ""
    }
   },
   "outputs": [
    {
     "output_type": "stream",
     "name": "stdout",
     "output_type": "stream",
     "text": [
      "root\n |-- idade: integer (nullable = true)\n |-- genero: string (nullable = true)\n |-- tempo_gasto: integer (nullable = true)\n |-- plataforma: string (nullable = true)\n |-- interesses: string (nullable = true)\n |-- localizacao: string (nullable = true)\n |-- dados_demograficos: string (nullable = true)\n |-- profissao: string (nullable = true)\n |-- renda: integer (nullable = true)\n |-- divida: boolean (nullable = true)\n |-- possui_casa: boolean (nullable = true)\n |-- Possui_carro: boolean (nullable = true)\n |-- date: date (nullable = true)\n\n"
     ]
    }
   ],
   "source": [
    "df_gold.printSchema()"
   ]
  }
 ],
 "metadata": {
  "application/vnd.databricks.v1+notebook": {
   "dashboards": [],
   "language": "python",
   "notebookMetadata": {
    "mostRecentlyExecutedCommandWithImplicitDF": {
     "commandId": -1,
     "dataframes": [
      "_sqldf"
     ]
    },
    "pythonIndentUnit": 4
   },
   "notebookName": "Gold_ETL",
   "widgets": {}
  }
 },
 "nbformat": 4,
 "nbformat_minor": 0
}
