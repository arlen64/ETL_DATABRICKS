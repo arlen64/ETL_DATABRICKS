{
 "cells": [
  {
   "cell_type": "code",
   "execution_count": 0,
   "metadata": {
    "application/vnd.databricks.v1+cell": {
     "cellMetadata": {
      "byteLimit": 2048000,
      "rowLimit": 10000
     },
     "inputWidgets": {},
     "nuid": "d7a74af9-2b51-4192-aa1e-f8e1f44923d5",
     "showTitle": false,
     "title": ""
    }
   },
   "outputs": [],
   "source": [
    "from pyspark.sql import SparkSession\n",
    "spark = SparkSession.builder.appName('tratando-dados-com-spark-databricks_raw').getOrCreate()\n",
    "path_raw = '/FileStore/tables/raw/dummy_data.csv'"
   ]
  },
  {
   "cell_type": "markdown",
   "metadata": {
    "application/vnd.databricks.v1+cell": {
     "cellMetadata": {},
     "inputWidgets": {},
     "nuid": "cfdd7da3-2735-48ca-ad58-9c00b5f9124d",
     "showTitle": false,
     "title": ""
    }
   },
   "source": [
    "LENDO O DATASET E PASSANDO AS CONFIGURAÇÕES DO TIPO DE ARQUIVO."
   ]
  },
  {
   "cell_type": "code",
   "execution_count": 0,
   "metadata": {
    "application/vnd.databricks.v1+cell": {
     "cellMetadata": {
      "byteLimit": 2048000,
      "rowLimit": 10000
     },
     "inputWidgets": {},
     "nuid": "3e49e705-2bdb-49fa-b5b6-c25b1dcad734",
     "showTitle": false,
     "title": ""
    }
   },
   "outputs": [],
   "source": [
    "df = (spark\n",
    "            .read\n",
    "            .format('csv')\n",
    "            .option('header','true')\n",
    "            .option('inferSchema','true')\n",
    "            .option('index','false')             \n",
    "            .option('delimiter',',')\n",
    "            .load(path))"
   ]
  },
  {
   "cell_type": "markdown",
   "metadata": {
    "application/vnd.databricks.v1+cell": {
     "cellMetadata": {
      "byteLimit": 2048000,
      "rowLimit": 10000
     },
     "inputWidgets": {},
     "nuid": "3abb70ef-91d2-4917-9fb4-8d05d5b88876",
     "showTitle": false,
     "title": ""
    }
   },
   "source": [
    "###DADOS BRUTOS EXTRAÍDOS DO KAGLE."
   ]
  },
  {
   "cell_type": "markdown",
   "metadata": {
    "application/vnd.databricks.v1+cell": {
     "cellMetadata": {
      "byteLimit": 2048000,
      "rowLimit": 10000
     },
     "inputWidgets": {},
     "nuid": "dde1e06c-2972-4bd1-a8f4-177d49b93bad",
     "showTitle": false,
     "title": ""
    }
   },
   "source": [
    "Assunto sobre: 'Tempo médio gasto por um usuário nas redes sociais'."
   ]
  },
  {
   "cell_type": "code",
   "execution_count": 0,
   "metadata": {
    "application/vnd.databricks.v1+cell": {
     "cellMetadata": {
      "byteLimit": 2048000,
      "rowLimit": 10000
     },
     "inputWidgets": {},
     "nuid": "76f7a6f8-8f6a-428d-9dd1-af93adc92339",
     "showTitle": false,
     "title": ""
    }
   },
   "outputs": [
    {
     "output_type": "stream",
     "name": "stdout",
     "output_type": "stream",
     "text": [
      "+---+----------+----------+---------+---------+--------------+------------+-----------------+------+------+-----------+--------+\n|age|    gender|time_spent| platform|interests|      location|demographics|       profession|income|indebt|isHomeOwner|Owns_Car|\n+---+----------+----------+---------+---------+--------------+------------+-----------------+------+------+-----------+--------+\n| 56|      male|         3|Instagram|   Sports|United Kingdom|       Urban|Software Engineer| 19774|  true|      false|   false|\n| 46|    female|         2| Facebook|   Travel|United Kingdom|       Urban|          Student| 10564|  true|       true|    true|\n| 32|      male|         8|Instagram|   Sports|     Australia|   Sub_Urban| Marketer Manager| 13258| false|      false|   false|\n| 60|non-binary|         5|Instagram|   Travel|United Kingdom|       Urban|          Student| 12500| false|       true|   false|\n| 25|      male|         1|Instagram|Lifestlye|     Australia|       Urban|Software Engineer| 14566| false|       true|    true|\n| 38|      male|         3| Facebook|   Travel| United States|       Urban| Marketer Manager| 19179|  true|       true|    true|\n| 56|      male|         8|  YouTube|   Sports| United States|       Urban|          Student| 16881|  true|       true|    true|\n| 36|      male|         4|Instagram|   Sports|     Australia|       Urban| Marketer Manager| 13636|  true|      false|    true|\n| 40|non-binary|         7|  YouTube|Lifestlye|     Australia|   Sub_Urban| Marketer Manager| 16030| false|      false|    true|\n| 28|non-binary|         2|Instagram|   Sports|     Australia|   Sub_Urban| Marketer Manager| 10223|  true|      false|    true|\n| 28|    female|         7|  YouTube|Lifestlye|United Kingdom|       Urban|          Student| 16297|  true|       true|   false|\n| 41|non-binary|         5| Facebook|   Sports| United States|   Sub_Urban| Marketer Manager| 10350| false|      false|   false|\n| 53|non-binary|         5| Facebook|   Sports|     Australia|       Rural|          Student| 17314| false|       true|    true|\n| 57|    female|         6|Instagram|Lifestlye|United Kingdom|       Urban|Software Engineer| 11928| false|       true|   false|\n| 41|non-binary|         9|  YouTube|   Travel| United States|       Rural|          Student| 17743|  true|       true|   false|\n| 20|      male|         6| Facebook|   Sports|United Kingdom|   Sub_Urban|Software Engineer| 18540|  true|       true|   false|\n| 39|      male|         8|Instagram|   Travel| United States|   Sub_Urban|          Student| 14732|  true|       true|   false|\n| 19|    female|         7|Instagram|   Sports|United Kingdom|       Rural| Marketer Manager| 11017| false|       true|    true|\n| 41|    female|         9| Facebook|   Sports| United States|   Sub_Urban|          Student| 12226| false|      false|   false|\n| 61|    female|         4| Facebook|   Sports| United States|       Urban| Marketer Manager| 17206| false|      false|   false|\n+---+----------+----------+---------+---------+--------------+------------+-----------------+------+------+-----------+--------+\nonly showing top 20 rows\n\n"
     ]
    }
   ],
   "source": [
    "df.show()"
   ]
  },
  {
   "cell_type": "code",
   "execution_count": 0,
   "metadata": {
    "application/vnd.databricks.v1+cell": {
     "cellMetadata": {
      "byteLimit": 2048000,
      "rowLimit": 10000
     },
     "inputWidgets": {},
     "nuid": "579bbaf0-450c-4f15-a54c-7a4dfbe1ca9b",
     "showTitle": false,
     "title": ""
    }
   },
   "outputs": [],
   "source": [
    "# caminho do diretório da camada Silver\n",
    "path_silver = '/FileStore/tables/silver/dummy_data_silver.csv'"
   ]
  },
  {
   "cell_type": "code",
   "execution_count": 0,
   "metadata": {
    "application/vnd.databricks.v1+cell": {
     "cellMetadata": {
      "byteLimit": 2048000,
      "rowLimit": 10000
     },
     "inputWidgets": {},
     "nuid": "6e7939cb-76b3-49fe-bb64-d1bce147dc0d",
     "showTitle": false,
     "title": ""
    }
   },
   "outputs": [],
   "source": [
    "# SALVANDO NA CAMADA SILVER \n",
    "novo_df_silver = df.write.format(\"csv\").mode(\"overwrite\").save(path_silver)"
   ]
  },
  {
   "cell_type": "markdown",
   "metadata": {
    "application/vnd.databricks.v1+cell": {
     "cellMetadata": {},
     "inputWidgets": {},
     "nuid": "1d5cab67-5e8b-42cf-a0d3-3157d5c2eec3",
     "showTitle": false,
     "title": ""
    }
   },
   "source": [
    "###Verificando se os dados foram transferidos com sucesso."
   ]
  },
  {
   "cell_type": "code",
   "execution_count": 0,
   "metadata": {
    "application/vnd.databricks.v1+cell": {
     "cellMetadata": {
      "byteLimit": 2048000,
      "rowLimit": 10000
     },
     "inputWidgets": {},
     "nuid": "f7a73ec3-4938-4a89-8942-3c82425a5aeb",
     "showTitle": false,
     "title": ""
    }
   },
   "outputs": [
    {
     "output_type": "display_data",
     "data": {
      "text/html": [
       "<style scoped>\n",
       "  .table-result-container {\n",
       "    max-height: 300px;\n",
       "    overflow: auto;\n",
       "  }\n",
       "  table, th, td {\n",
       "    border: 1px solid black;\n",
       "    border-collapse: collapse;\n",
       "  }\n",
       "  th, td {\n",
       "    padding: 5px;\n",
       "  }\n",
       "  th {\n",
       "    text-align: left;\n",
       "  }\n",
       "</style><div class='table-result-container'><table class='table-result'><thead style='background-color: white'><tr><th>path</th><th>name</th><th>size</th><th>modificationTime</th></tr></thead><tbody><tr><td>dbfs:/FileStore/tables/silver/SILVER_REDME.txt</td><td>SILVER_REDME.txt</td><td>127</td><td>1708266408000</td></tr><tr><td>dbfs:/FileStore/tables/silver/dummy_data_silver.csv/</td><td>dummy_data_silver.csv/</td><td>0</td><td>0</td></tr></tbody></table></div>"
      ]
     },
     "metadata": {
      "application/vnd.databricks.v1+output": {
       "addedWidgets": {},
       "aggData": [],
       "aggError": "",
       "aggOverflow": false,
       "aggSchema": [],
       "aggSeriesLimitReached": false,
       "aggType": "",
       "arguments": {},
       "columnCustomDisplayInfos": {},
       "data": [
        [
         "dbfs:/FileStore/tables/silver/SILVER_REDME.txt",
         "SILVER_REDME.txt",
         127,
         1708266408000
        ],
        [
         "dbfs:/FileStore/tables/silver/dummy_data_silver.csv/",
         "dummy_data_silver.csv/",
         0,
         0
        ]
       ],
       "datasetInfos": [],
       "dbfsResultPath": null,
       "isJsonSchema": true,
       "metadata": {
        "isDbfsCommandResult": false
       },
       "overflow": false,
       "plotOptions": {
        "customPlotOptions": {},
        "displayType": "table",
        "pivotAggregation": null,
        "pivotColumns": null,
        "xColumns": null,
        "yColumns": null
       },
       "removedWidgets": [],
       "schema": [
        {
         "metadata": "{}",
         "name": "path",
         "type": "\"string\""
        },
        {
         "metadata": "{}",
         "name": "name",
         "type": "\"string\""
        },
        {
         "metadata": "{}",
         "name": "size",
         "type": "\"long\""
        },
        {
         "metadata": "{}",
         "name": "modificationTime",
         "type": "\"long\""
        }
       ],
       "type": "table"
      }
     },
     "output_type": "display_data"
    }
   ],
   "source": [
    "%fs ls /FileStore/tables/silver/"
   ]
  }
 ],
 "metadata": {
  "application/vnd.databricks.v1+notebook": {
   "dashboards": [],
   "language": "python",
   "notebookMetadata": {
    "mostRecentlyExecutedCommandWithImplicitDF": {
     "commandId": 1860213652822513,
     "dataframes": [
      "_sqldf"
     ]
    },
    "pythonIndentUnit": 4
   },
   "notebookName": "Raw_ETL",
   "widgets": {}
  }
 },
 "nbformat": 4,
 "nbformat_minor": 0
}
